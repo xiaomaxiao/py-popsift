{
 "cells": [
  {
   "cell_type": "code",
   "execution_count": 6,
   "metadata": {
    "ExecuteTime": {
     "end_time": "2020-11-11T11:01:48.183305Z",
     "start_time": "2020-11-11T11:01:48.180521Z"
    }
   },
   "outputs": [],
   "source": [
    "from ZHSift import ZHSift\n",
    "import cv2\n",
    "import numpy as np\n",
    "import matplotlib.pyplot as plt "
   ]
  },
  {
   "cell_type": "code",
   "execution_count": null,
   "metadata": {
    "ExecuteTime": {
     "start_time": "2020-11-11T11:01:47.044Z"
    }
   },
   "outputs": [],
   "source": [
    "sift = cv2.SIFT_create()\n",
    "zhsift = ZHSift(0,True)"
   ]
  },
  {
   "cell_type": "code",
   "execution_count": null,
   "metadata": {
    "ExecuteTime": {
     "start_time": "2020-11-11T11:01:47.250Z"
    }
   },
   "outputs": [],
   "source": [
    "img1 = cv2.imread('./img/k1.jpg')\n",
    "img1 = cv2.cvtColor(img1,cv2.COLOR_BGR2GRAY)\n",
    "img2 = cv2.imread('./img/k2.jpg')\n",
    "img2 = cv2.cvtColor(img2,cv2.COLOR_BGR2GRAY)\n",
    "print(img1.shape)"
   ]
  },
  {
   "cell_type": "code",
   "execution_count": 1,
   "metadata": {
    "ExecuteTime": {
     "end_time": "2020-11-11T11:01:51.699828Z",
     "start_time": "2020-11-11T11:01:51.611030Z"
    }
   },
   "outputs": [
    {
     "ename": "NameError",
     "evalue": "name 'sift' is not defined",
     "output_type": "error",
     "traceback": [
      "\u001b[0;31m---------------------------------------------------------------------------\u001b[0m",
      "\u001b[0;31mNameError\u001b[0m                                 Traceback (most recent call last)",
      "\u001b[0;32m<ipython-input-1-1177e395d1f2>\u001b[0m in \u001b[0;36m<module>\u001b[0;34m\u001b[0m\n\u001b[0;32m----> 1\u001b[0;31m \u001b[0mkp3\u001b[0m\u001b[0;34m,\u001b[0m\u001b[0mdes3\u001b[0m \u001b[0;34m=\u001b[0m \u001b[0msift\u001b[0m\u001b[0;34m.\u001b[0m\u001b[0mdetectAndCompute\u001b[0m\u001b[0;34m(\u001b[0m\u001b[0mimg1\u001b[0m\u001b[0;34m,\u001b[0m\u001b[0;32mNone\u001b[0m\u001b[0;34m)\u001b[0m\u001b[0;34m\u001b[0m\u001b[0;34m\u001b[0m\u001b[0m\n\u001b[0m\u001b[1;32m      2\u001b[0m \u001b[0mkp4\u001b[0m\u001b[0;34m,\u001b[0m\u001b[0mdes4\u001b[0m \u001b[0;34m=\u001b[0m \u001b[0msift\u001b[0m\u001b[0;34m.\u001b[0m\u001b[0mdetectAndCompute\u001b[0m\u001b[0;34m(\u001b[0m\u001b[0mimg2\u001b[0m\u001b[0;34m,\u001b[0m\u001b[0;32mNone\u001b[0m\u001b[0;34m)\u001b[0m\u001b[0;34m\u001b[0m\u001b[0;34m\u001b[0m\u001b[0m\n\u001b[1;32m      3\u001b[0m \u001b[0mprint\u001b[0m\u001b[0;34m(\u001b[0m\u001b[0mdes4\u001b[0m\u001b[0;34m.\u001b[0m\u001b[0mshape\u001b[0m\u001b[0;34m)\u001b[0m\u001b[0;34m\u001b[0m\u001b[0;34m\u001b[0m\u001b[0m\n",
      "\u001b[0;31mNameError\u001b[0m: name 'sift' is not defined"
     ]
    }
   ],
   "source": [
    "kp3,des3 = sift.detectAndCompute(img1,None)\n",
    "kp4,des4 = sift.detectAndCompute(img2,None)\n",
    "print(des4.shape)"
   ]
  },
  {
   "cell_type": "code",
   "execution_count": null,
   "metadata": {
    "ExecuteTime": {
     "end_time": "2020-11-11T11:01:51.701780Z",
     "start_time": "2020-11-11T11:01:47.791Z"
    }
   },
   "outputs": [],
   "source": [
    "kp1 ,des1 = zhsift.detectAndCompute(img1)\n",
    "kp2 ,des2 = zhsift.detectAndCompute(img2)\n",
    "print(des2.shape)"
   ]
  },
  {
   "cell_type": "code",
   "execution_count": null,
   "metadata": {
    "ExecuteTime": {
     "start_time": "2020-11-11T11:01:09.738Z"
    }
   },
   "outputs": [],
   "source": [
    "bf = cv2.BFMatcher()"
   ]
  },
  {
   "cell_type": "code",
   "execution_count": 28,
   "metadata": {
    "ExecuteTime": {
     "end_time": "2020-11-11T07:14:06.600615Z",
     "start_time": "2020-11-11T07:14:04.858292Z"
    }
   },
   "outputs": [],
   "source": [
    "matches = bf.knnMatch(des1, des2, k=2)\n",
    "good = []\n",
    "for m, n in matches:\n",
    "    if m.distance < 0.7 * n.distance:\n",
    "        good.append(m)"
   ]
  },
  {
   "cell_type": "code",
   "execution_count": 29,
   "metadata": {
    "ExecuteTime": {
     "end_time": "2020-11-11T07:14:06.640258Z",
     "start_time": "2020-11-11T07:14:06.602445Z"
    }
   },
   "outputs": [],
   "source": [
    "if len(good)>10:\n",
    "    src_pts = np.float32([ kp1[m.queryIdx].pt for m in good ]).reshape(-1,1,2)\n",
    "    dst_pts = np.float32([ kp2[m.trainIdx].pt for m in good ]).reshape(-1,1,2)\n",
    "\n",
    "    M, mask = cv2.findHomography(src_pts, dst_pts, cv2.RANSAC,5.0)\n",
    "    matchesMask = mask.ravel().tolist()\n",
    "\n",
    "    h,w = img1.shape\n",
    "    pts = np.float32([ [0,0],[0,h-1],[w-1,h-1],[w-1,0] ]).reshape(-1,1,2)\n",
    "    dst = cv2.perspectiveTransform(pts,M)\n",
    "\n",
    "    img2 = cv2.polylines(img2,[np.int32(dst)],True,255,3, cv2.LINE_AA)\n",
    "\n",
    "else:\n",
    "    print (\"Not enough matches are found - %d/%d\" % (len(good),MIN_MATCH_COUNT))\n",
    "    matchesMask = None"
   ]
  },
  {
   "cell_type": "code",
   "execution_count": null,
   "metadata": {},
   "outputs": [],
   "source": [
    "def trans_keypoints(kps):\n",
    "    cv_kps = [ cv2.KeyPoint(\n",
    "                            x = kp.pt[0],\n",
    "                            y = kp.pt[1],\n",
    "                            _size = kp.size,\n",
    "                            _angle = kp.angle,\n",
    "                            _response = kp.response,\n",
    "                            _octave = kp.octave,\n",
    "                            _class_id = kp.class_id) for kp in kps ] \n",
    "    return cv_kps"
   ]
  },
  {
   "cell_type": "code",
   "execution_count": 44,
   "metadata": {
    "ExecuteTime": {
     "end_time": "2020-11-11T07:50:22.970431Z",
     "start_time": "2020-11-11T07:50:21.895890Z"
    }
   },
   "outputs": [],
   "source": [
    "draw_params = dict(matchColor = (0,255,0), # draw matches in green color\n",
    "                   singlePointColor = None,\n",
    "                   matchesMask = matchesMask, # draw only inliers\n",
    "                   flags = 2)\n",
    "kp1 = trans_keypoints(kp1)\n",
    "kp2 = trans_keypoints(kp2)\n",
    "img3 = cv2.drawMatches(img1,kp1,img2,kp2,good,None,**draw_params)"
   ]
  },
  {
   "cell_type": "code",
   "execution_count": null,
   "metadata": {
    "ExecuteTime": {
     "end_time": "2020-11-11T07:14:06.715695Z",
     "start_time": "2020-11-11T07:14:04.102Z"
    }
   },
   "outputs": [],
   "source": [
    "plt.imshow(img3)"
   ]
  },
  {
   "cell_type": "code",
   "execution_count": null,
   "metadata": {
    "ExecuteTime": {
     "end_time": "2020-11-11T07:14:06.716620Z",
     "start_time": "2020-11-11T07:14:04.481Z"
    }
   },
   "outputs": [],
   "source": [
    "cv2.imwrite('match.jpg',img3)"
   ]
  },
  {
   "cell_type": "code",
   "execution_count": null,
   "metadata": {},
   "outputs": [],
   "source": []
  }
 ],
 "metadata": {
  "kernelspec": {
   "display_name": "Python 3.7.9 64-bit ('open-mmlab-seg': conda)",
   "language": "python",
   "name": "python37964bitopenmmlabsegconda5364fc8fe89f4b0b8101116d9c58358d"
  },
  "language_info": {
   "codemirror_mode": {
    "name": "ipython",
    "version": 3
   },
   "file_extension": ".py",
   "mimetype": "text/x-python",
   "name": "python",
   "nbconvert_exporter": "python",
   "pygments_lexer": "ipython3",
   "version": "3.7.9"
  }
 },
 "nbformat": 4,
 "nbformat_minor": 4
}
